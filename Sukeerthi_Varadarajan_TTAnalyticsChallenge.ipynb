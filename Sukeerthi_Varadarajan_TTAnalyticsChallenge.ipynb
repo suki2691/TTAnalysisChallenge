{
 "cells": [
  {
   "cell_type": "code",
   "execution_count": 1,
   "metadata": {
    "collapsed": true
   },
   "outputs": [],
   "source": [
    "import numpy as np\n",
    "import pandas as pd\n",
    "import seaborn as sns\n",
    "import matplotlib.pyplot as plt\n",
    "from sklearn.linear_model import LinearRegression\n",
    "from sklearn.metrics import mean_squared_error, r2_score\n",
    "from sklearn.model_selection import train_test_split\n",
    "from sklearn.ensemble import RandomForestRegressor, GradientBoostingRegressor\n",
    "import ml_insights as mli\n",
    "%matplotlib inline\n",
    "sns.set_style('whitegrid')"
   ]
  },
  {
   "cell_type": "markdown",
   "metadata": {},
   "source": [
    "# Questions"
   ]
  },
  {
   "cell_type": "markdown",
   "metadata": {},
   "source": [
    "Thumbtack has decided to take a closer look at performance in two of its largest categories - House\n",
    "Cleaning and Local Moving. Please complete the analyses suggested below and overlay your own\n",
    "recommendations for how we can improve and grow our marketplace. In your analysis, please also note\n",
    "any steps you took to transform or clean the data.\n",
    "\n",
    "\n",
    "\n",
    "(2) Quotes​ ​Per​ ​Request\n",
    "* What is the distribution of number of quotes per request?\n",
    "* What factors contribute to some requests getting more quotes than others?\n",
    "\n",
    "(3) Job​ ​Value\n",
    "* By category, what is the distribution of quote prices for a project?\n",
    "* By category, what price do you think Thumbtack should charge pros to quote? Why?\n",
    "Explain your reasoning for any assumptions that you make.\n",
    "\n",
    "(4) Further​ ​Exploration\n",
    "* Briefly describe two other questions or analyses you would be interested in pursuing if\n",
    "you had more time to explore this data\n",
    "\n",
    "We encourage you to explain and hypothesize about the drivers behind your findings, and to make\n",
    "business recommendations based on your results. We also value brevity - only include the analysis &\n",
    "charts that you believe are most relevant to your answers"
   ]
  },
  {
   "cell_type": "markdown",
   "metadata": {},
   "source": [
    "## Reading the data"
   ]
  },
  {
   "cell_type": "markdown",
   "metadata": {},
   "source": [
    "#### Visitors\n",
    "\n",
    "This dataset contains a list of unique Thumbtack visitors who started request forms in either house\n",
    "cleaning or local moving categories within the last few months. Some of these users submitted a\n",
    "request. These customers then received between 0 and 5 quotes from pros (i.e., professionals providing\n",
    "services on Thumbtack). Customers who received quotes then had the option to hire one of the pros.\n",
    "date (string) the day the visitor came to Thumbtack\n",
    "\n",
    "- device (string): whether the visitor is using a desktop or mobile device\n",
    "- category (string): category for which the visitor needs a project done\n",
    "- request_sent (integer): 1 if the user sent a request, 0 if not\n",
    "- request_id (integer): unique identifier for a request, NA if the user did not submit a request\n",
    "- how_far (string): for requests in the moving category, how far the customer estimates that they will move\n",
    "- num_rooms (string): for requests in the cleaning category, how many rooms the customer has\n",
    "- num_baths (string): for requests in the cleaning category, how many bathrooms the customer has"
   ]
  },
  {
   "cell_type": "code",
   "execution_count": 2,
   "metadata": {
    "collapsed": true
   },
   "outputs": [],
   "source": [
    "visitors = pd.read_csv('thumbtack/visitors.csv')"
   ]
  },
  {
   "cell_type": "code",
   "execution_count": 3,
   "metadata": {},
   "outputs": [
    {
     "data": {
      "text/html": [
       "<div>\n",
       "<style>\n",
       "    .dataframe thead tr:only-child th {\n",
       "        text-align: right;\n",
       "    }\n",
       "\n",
       "    .dataframe thead th {\n",
       "        text-align: left;\n",
       "    }\n",
       "\n",
       "    .dataframe tbody tr th {\n",
       "        vertical-align: top;\n",
       "    }\n",
       "</style>\n",
       "<table border=\"1\" class=\"dataframe\">\n",
       "  <thead>\n",
       "    <tr style=\"text-align: right;\">\n",
       "      <th></th>\n",
       "      <th>session_date</th>\n",
       "      <th>device</th>\n",
       "      <th>category_name</th>\n",
       "      <th>sent_request</th>\n",
       "      <th>request_id</th>\n",
       "      <th>how_far</th>\n",
       "      <th>num_bedrooms</th>\n",
       "      <th>num_bathrooms</th>\n",
       "    </tr>\n",
       "  </thead>\n",
       "  <tbody>\n",
       "    <tr>\n",
       "      <th>0</th>\n",
       "      <td>8/1/16</td>\n",
       "      <td>desktop</td>\n",
       "      <td>House Cleaning (One Time)</td>\n",
       "      <td>1</td>\n",
       "      <td>9067.0</td>\n",
       "      <td>NaN</td>\n",
       "      <td>1 bedroom</td>\n",
       "      <td>1 bathroom</td>\n",
       "    </tr>\n",
       "    <tr>\n",
       "      <th>1</th>\n",
       "      <td>8/1/16</td>\n",
       "      <td>desktop</td>\n",
       "      <td>Local Moving (under 50 miles)</td>\n",
       "      <td>1</td>\n",
       "      <td>12707.0</td>\n",
       "      <td>Less than 5 miles</td>\n",
       "      <td>NaN</td>\n",
       "      <td>NaN</td>\n",
       "    </tr>\n",
       "    <tr>\n",
       "      <th>2</th>\n",
       "      <td>8/1/16</td>\n",
       "      <td>desktop</td>\n",
       "      <td>Local Moving (under 50 miles)</td>\n",
       "      <td>1</td>\n",
       "      <td>19561.0</td>\n",
       "      <td>Less than 5 miles</td>\n",
       "      <td>NaN</td>\n",
       "      <td>NaN</td>\n",
       "    </tr>\n",
       "    <tr>\n",
       "      <th>3</th>\n",
       "      <td>8/1/16</td>\n",
       "      <td>mobile</td>\n",
       "      <td>Local Moving (under 50 miles)</td>\n",
       "      <td>1</td>\n",
       "      <td>31010.0</td>\n",
       "      <td>Less than 5 miles</td>\n",
       "      <td>NaN</td>\n",
       "      <td>NaN</td>\n",
       "    </tr>\n",
       "    <tr>\n",
       "      <th>4</th>\n",
       "      <td>8/1/16</td>\n",
       "      <td>mobile</td>\n",
       "      <td>Local Moving (under 50 miles)</td>\n",
       "      <td>1</td>\n",
       "      <td>6887.0</td>\n",
       "      <td>11 - 20 miles</td>\n",
       "      <td>NaN</td>\n",
       "      <td>NaN</td>\n",
       "    </tr>\n",
       "  </tbody>\n",
       "</table>\n",
       "</div>"
      ],
      "text/plain": [
       "  session_date   device                  category_name  sent_request  \\\n",
       "0       8/1/16  desktop      House Cleaning (One Time)             1   \n",
       "1       8/1/16  desktop  Local Moving (under 50 miles)             1   \n",
       "2       8/1/16  desktop  Local Moving (under 50 miles)             1   \n",
       "3       8/1/16   mobile  Local Moving (under 50 miles)             1   \n",
       "4       8/1/16   mobile  Local Moving (under 50 miles)             1   \n",
       "\n",
       "   request_id            how_far num_bedrooms num_bathrooms  \n",
       "0      9067.0                NaN    1 bedroom    1 bathroom  \n",
       "1     12707.0  Less than 5 miles          NaN           NaN  \n",
       "2     19561.0  Less than 5 miles          NaN           NaN  \n",
       "3     31010.0  Less than 5 miles          NaN           NaN  \n",
       "4      6887.0      11 - 20 miles          NaN           NaN  "
      ]
     },
     "execution_count": 3,
     "metadata": {},
     "output_type": "execute_result"
    }
   ],
   "source": [
    "visitors.head()"
   ]
  },
  {
   "cell_type": "code",
   "execution_count": 4,
   "metadata": {},
   "outputs": [
    {
     "name": "stdout",
     "output_type": "stream",
     "text": [
      "<class 'pandas.core.frame.DataFrame'>\n",
      "RangeIndex: 59996 entries, 0 to 59995\n",
      "Data columns (total 8 columns):\n",
      "session_date     59996 non-null object\n",
      "device           59996 non-null object\n",
      "category_name    59996 non-null object\n",
      "sent_request     59996 non-null int64\n",
      "request_id       34146 non-null float64\n",
      "how_far          21451 non-null object\n",
      "num_bedrooms     8638 non-null object\n",
      "num_bathrooms    8638 non-null object\n",
      "dtypes: float64(1), int64(1), object(6)\n",
      "memory usage: 3.7+ MB\n"
     ]
    }
   ],
   "source": [
    "visitors.info()"
   ]
  },
  {
   "cell_type": "code",
   "execution_count": 5,
   "metadata": {},
   "outputs": [
    {
     "data": {
      "text/html": [
       "<div>\n",
       "<style>\n",
       "    .dataframe thead tr:only-child th {\n",
       "        text-align: right;\n",
       "    }\n",
       "\n",
       "    .dataframe thead th {\n",
       "        text-align: left;\n",
       "    }\n",
       "\n",
       "    .dataframe tbody tr th {\n",
       "        vertical-align: top;\n",
       "    }\n",
       "</style>\n",
       "<table border=\"1\" class=\"dataframe\">\n",
       "  <thead>\n",
       "    <tr style=\"text-align: right;\">\n",
       "      <th></th>\n",
       "      <th>sent_request</th>\n",
       "      <th>request_id</th>\n",
       "    </tr>\n",
       "  </thead>\n",
       "  <tbody>\n",
       "    <tr>\n",
       "      <th>count</th>\n",
       "      <td>59996.000000</td>\n",
       "      <td>34146.000000</td>\n",
       "    </tr>\n",
       "    <tr>\n",
       "      <th>mean</th>\n",
       "      <td>0.569138</td>\n",
       "      <td>17073.743396</td>\n",
       "    </tr>\n",
       "    <tr>\n",
       "      <th>std</th>\n",
       "      <td>0.495201</td>\n",
       "      <td>9857.564456</td>\n",
       "    </tr>\n",
       "    <tr>\n",
       "      <th>min</th>\n",
       "      <td>0.000000</td>\n",
       "      <td>1.000000</td>\n",
       "    </tr>\n",
       "    <tr>\n",
       "      <th>25%</th>\n",
       "      <td>0.000000</td>\n",
       "      <td>8537.250000</td>\n",
       "    </tr>\n",
       "    <tr>\n",
       "      <th>50%</th>\n",
       "      <td>1.000000</td>\n",
       "      <td>17073.500000</td>\n",
       "    </tr>\n",
       "    <tr>\n",
       "      <th>75%</th>\n",
       "      <td>1.000000</td>\n",
       "      <td>25609.750000</td>\n",
       "    </tr>\n",
       "    <tr>\n",
       "      <th>max</th>\n",
       "      <td>1.000000</td>\n",
       "      <td>34147.000000</td>\n",
       "    </tr>\n",
       "  </tbody>\n",
       "</table>\n",
       "</div>"
      ],
      "text/plain": [
       "       sent_request    request_id\n",
       "count  59996.000000  34146.000000\n",
       "mean       0.569138  17073.743396\n",
       "std        0.495201   9857.564456\n",
       "min        0.000000      1.000000\n",
       "25%        0.000000   8537.250000\n",
       "50%        1.000000  17073.500000\n",
       "75%        1.000000  25609.750000\n",
       "max        1.000000  34147.000000"
      ]
     },
     "execution_count": 5,
     "metadata": {},
     "output_type": "execute_result"
    }
   ],
   "source": [
    "visitors.describe()"
   ]
  },
  {
   "cell_type": "markdown",
   "metadata": {},
   "source": [
    "#### Quotes\n",
    "\n",
    "This dataset contains a list of quotes that pros sent in response to customer requests. Each quote is\n",
    "associated with a particular request and usually contains a price estimate.\n",
    "\n",
    "- quote_id (integer): unique identifier for a quote\n",
    "- request_id (integer): unique identifier for the request a quote is associated with\n",
    "- quote_price (integer): estimated price in dollars for the project\n",
    "- hired (boolean): 1 if the quote was marked as hired by the customer, 0 otherwise\n",
    "- pro_id (integer): identifier for a pro"
   ]
  },
  {
   "cell_type": "code",
   "execution_count": 6,
   "metadata": {
    "collapsed": true
   },
   "outputs": [],
   "source": [
    "quotes = pd.read_csv('thumbtack/quotes.csv')"
   ]
  },
  {
   "cell_type": "code",
   "execution_count": 7,
   "metadata": {},
   "outputs": [
    {
     "data": {
      "text/html": [
       "<div>\n",
       "<style>\n",
       "    .dataframe thead tr:only-child th {\n",
       "        text-align: right;\n",
       "    }\n",
       "\n",
       "    .dataframe thead th {\n",
       "        text-align: left;\n",
       "    }\n",
       "\n",
       "    .dataframe tbody tr th {\n",
       "        vertical-align: top;\n",
       "    }\n",
       "</style>\n",
       "<table border=\"1\" class=\"dataframe\">\n",
       "  <thead>\n",
       "    <tr style=\"text-align: right;\">\n",
       "      <th></th>\n",
       "      <th>request_id</th>\n",
       "      <th>quote_id</th>\n",
       "      <th>quote_price</th>\n",
       "      <th>hired</th>\n",
       "      <th>pro_id</th>\n",
       "    </tr>\n",
       "  </thead>\n",
       "  <tbody>\n",
       "    <tr>\n",
       "      <th>0</th>\n",
       "      <td>1</td>\n",
       "      <td>38912310</td>\n",
       "      <td>NaN</td>\n",
       "      <td>0</td>\n",
       "      <td>851539</td>\n",
       "    </tr>\n",
       "    <tr>\n",
       "      <th>1</th>\n",
       "      <td>1</td>\n",
       "      <td>38912311</td>\n",
       "      <td>210.0</td>\n",
       "      <td>0</td>\n",
       "      <td>10113954</td>\n",
       "    </tr>\n",
       "    <tr>\n",
       "      <th>2</th>\n",
       "      <td>1</td>\n",
       "      <td>38913628</td>\n",
       "      <td>NaN</td>\n",
       "      <td>0</td>\n",
       "      <td>13498826</td>\n",
       "    </tr>\n",
       "    <tr>\n",
       "      <th>3</th>\n",
       "      <td>1</td>\n",
       "      <td>38914071</td>\n",
       "      <td>NaN</td>\n",
       "      <td>0</td>\n",
       "      <td>15921289</td>\n",
       "    </tr>\n",
       "    <tr>\n",
       "      <th>4</th>\n",
       "      <td>1</td>\n",
       "      <td>38912344</td>\n",
       "      <td>NaN</td>\n",
       "      <td>0</td>\n",
       "      <td>14506387</td>\n",
       "    </tr>\n",
       "  </tbody>\n",
       "</table>\n",
       "</div>"
      ],
      "text/plain": [
       "   request_id  quote_id  quote_price  hired    pro_id\n",
       "0           1  38912310          NaN      0    851539\n",
       "1           1  38912311        210.0      0  10113954\n",
       "2           1  38913628          NaN      0  13498826\n",
       "3           1  38914071          NaN      0  15921289\n",
       "4           1  38912344          NaN      0  14506387"
      ]
     },
     "execution_count": 7,
     "metadata": {},
     "output_type": "execute_result"
    }
   ],
   "source": [
    "quotes.head()"
   ]
  },
  {
   "cell_type": "code",
   "execution_count": 8,
   "metadata": {},
   "outputs": [
    {
     "data": {
      "text/html": [
       "<div>\n",
       "<style>\n",
       "    .dataframe thead tr:only-child th {\n",
       "        text-align: right;\n",
       "    }\n",
       "\n",
       "    .dataframe thead th {\n",
       "        text-align: left;\n",
       "    }\n",
       "\n",
       "    .dataframe tbody tr th {\n",
       "        vertical-align: top;\n",
       "    }\n",
       "</style>\n",
       "<table border=\"1\" class=\"dataframe\">\n",
       "  <thead>\n",
       "    <tr style=\"text-align: right;\">\n",
       "      <th></th>\n",
       "      <th>request_id</th>\n",
       "      <th>quote_id</th>\n",
       "      <th>quote_price</th>\n",
       "      <th>hired</th>\n",
       "      <th>pro_id</th>\n",
       "    </tr>\n",
       "  </thead>\n",
       "  <tbody>\n",
       "    <tr>\n",
       "      <th>count</th>\n",
       "      <td>64330.000000</td>\n",
       "      <td>6.433000e+04</td>\n",
       "      <td>31554.000000</td>\n",
       "      <td>64330.000000</td>\n",
       "      <td>6.433000e+04</td>\n",
       "    </tr>\n",
       "    <tr>\n",
       "      <th>mean</th>\n",
       "      <td>16779.905301</td>\n",
       "      <td>3.873530e+07</td>\n",
       "      <td>242.516896</td>\n",
       "      <td>0.171724</td>\n",
       "      <td>9.368664e+06</td>\n",
       "    </tr>\n",
       "    <tr>\n",
       "      <th>std</th>\n",
       "      <td>9890.064189</td>\n",
       "      <td>5.822082e+05</td>\n",
       "      <td>273.232394</td>\n",
       "      <td>0.377143</td>\n",
       "      <td>5.156145e+06</td>\n",
       "    </tr>\n",
       "    <tr>\n",
       "      <th>min</th>\n",
       "      <td>1.000000</td>\n",
       "      <td>3.771956e+07</td>\n",
       "      <td>0.000000</td>\n",
       "      <td>0.000000</td>\n",
       "      <td>2.557000e+03</td>\n",
       "    </tr>\n",
       "    <tr>\n",
       "      <th>25%</th>\n",
       "      <td>8112.000000</td>\n",
       "      <td>3.822648e+07</td>\n",
       "      <td>120.000000</td>\n",
       "      <td>0.000000</td>\n",
       "      <td>5.328238e+06</td>\n",
       "    </tr>\n",
       "    <tr>\n",
       "      <th>50%</th>\n",
       "      <td>16673.500000</td>\n",
       "      <td>3.874019e+07</td>\n",
       "      <td>195.000000</td>\n",
       "      <td>0.000000</td>\n",
       "      <td>9.287742e+06</td>\n",
       "    </tr>\n",
       "    <tr>\n",
       "      <th>75%</th>\n",
       "      <td>25331.000000</td>\n",
       "      <td>3.924630e+07</td>\n",
       "      <td>350.000000</td>\n",
       "      <td>0.000000</td>\n",
       "      <td>1.428770e+07</td>\n",
       "    </tr>\n",
       "    <tr>\n",
       "      <th>max</th>\n",
       "      <td>34146.000000</td>\n",
       "      <td>3.965976e+07</td>\n",
       "      <td>25504.000000</td>\n",
       "      <td>1.000000</td>\n",
       "      <td>1.677167e+07</td>\n",
       "    </tr>\n",
       "  </tbody>\n",
       "</table>\n",
       "</div>"
      ],
      "text/plain": [
       "         request_id      quote_id   quote_price         hired        pro_id\n",
       "count  64330.000000  6.433000e+04  31554.000000  64330.000000  6.433000e+04\n",
       "mean   16779.905301  3.873530e+07    242.516896      0.171724  9.368664e+06\n",
       "std     9890.064189  5.822082e+05    273.232394      0.377143  5.156145e+06\n",
       "min        1.000000  3.771956e+07      0.000000      0.000000  2.557000e+03\n",
       "25%     8112.000000  3.822648e+07    120.000000      0.000000  5.328238e+06\n",
       "50%    16673.500000  3.874019e+07    195.000000      0.000000  9.287742e+06\n",
       "75%    25331.000000  3.924630e+07    350.000000      0.000000  1.428770e+07\n",
       "max    34146.000000  3.965976e+07  25504.000000      1.000000  1.677167e+07"
      ]
     },
     "execution_count": 8,
     "metadata": {},
     "output_type": "execute_result"
    }
   ],
   "source": [
    "quotes.describe()"
   ]
  },
  {
   "cell_type": "markdown",
   "metadata": {},
   "source": [
    "# Question 1\n",
    "\n",
    "Visitors​ ​and​ ​Conversion​ ​Rate\n",
    "* How does the number of visitors change over time?\n",
    "* What percent of visitors submit a project request?\n",
    "* How do category and device influence these metrics?"
   ]
  },
  {
   "cell_type": "code",
   "execution_count": 9,
   "metadata": {},
   "outputs": [],
   "source": [
    "#adding week number to identify trends\n",
    "visitors['week_visited'] = pd.to_datetime(visitors.session_date).dt.week"
   ]
  },
  {
   "cell_type": "markdown",
   "metadata": {},
   "source": [
    "Observing week over week growth of visits and conversion rate"
   ]
  },
  {
   "cell_type": "code",
   "execution_count": 10,
   "metadata": {
    "collapsed": true
   },
   "outputs": [],
   "source": [
    "weekly_activity = visitors.groupby(['week_visited'])['sent_request'].agg(['sum','size']).reset_index()\n",
    "weekly_activity.columns = ['week_visited','request_sent','total_visits']"
   ]
  },
  {
   "cell_type": "markdown",
   "metadata": {},
   "source": [
    "Calculating conversion rate as the percentage of total visits that converted to requests sent for quotes"
   ]
  },
  {
   "cell_type": "code",
   "execution_count": 11,
   "metadata": {
    "collapsed": true
   },
   "outputs": [],
   "source": [
    "weekly_activity['conversion_rate'] = weekly_activity.request_sent/weekly_activity.total_visits * 100"
   ]
  },
  {
   "cell_type": "code",
   "execution_count": 12,
   "metadata": {
    "collapsed": true
   },
   "outputs": [],
   "source": [
    "weekly_activity['%_change_in_visitors'] = weekly_activity.total_visits.pct_change() *100"
   ]
  },
  {
   "cell_type": "code",
   "execution_count": 13,
   "metadata": {},
   "outputs": [
    {
     "data": {
      "text/html": [
       "<div>\n",
       "<style>\n",
       "    .dataframe thead tr:only-child th {\n",
       "        text-align: right;\n",
       "    }\n",
       "\n",
       "    .dataframe thead th {\n",
       "        text-align: left;\n",
       "    }\n",
       "\n",
       "    .dataframe tbody tr th {\n",
       "        vertical-align: top;\n",
       "    }\n",
       "</style>\n",
       "<table border=\"1\" class=\"dataframe\">\n",
       "  <thead>\n",
       "    <tr style=\"text-align: right;\">\n",
       "      <th></th>\n",
       "      <th>week_visited</th>\n",
       "      <th>request_sent</th>\n",
       "      <th>total_visits</th>\n",
       "      <th>conversion_rate</th>\n",
       "      <th>%_change_in_visitors</th>\n",
       "    </tr>\n",
       "  </thead>\n",
       "  <tbody>\n",
       "    <tr>\n",
       "      <th>0</th>\n",
       "      <td>31</td>\n",
       "      <td>8188</td>\n",
       "      <td>14668</td>\n",
       "      <td>55.822198</td>\n",
       "      <td>NaN</td>\n",
       "    </tr>\n",
       "    <tr>\n",
       "      <th>1</th>\n",
       "      <td>32</td>\n",
       "      <td>8416</td>\n",
       "      <td>14776</td>\n",
       "      <td>56.957228</td>\n",
       "      <td>0.736297</td>\n",
       "    </tr>\n",
       "    <tr>\n",
       "      <th>2</th>\n",
       "      <td>33</td>\n",
       "      <td>8603</td>\n",
       "      <td>14938</td>\n",
       "      <td>57.591378</td>\n",
       "      <td>1.096372</td>\n",
       "    </tr>\n",
       "    <tr>\n",
       "      <th>3</th>\n",
       "      <td>34</td>\n",
       "      <td>8939</td>\n",
       "      <td>15614</td>\n",
       "      <td>57.249904</td>\n",
       "      <td>4.525372</td>\n",
       "    </tr>\n",
       "  </tbody>\n",
       "</table>\n",
       "</div>"
      ],
      "text/plain": [
       "   week_visited  request_sent  total_visits  conversion_rate  \\\n",
       "0            31          8188         14668        55.822198   \n",
       "1            32          8416         14776        56.957228   \n",
       "2            33          8603         14938        57.591378   \n",
       "3            34          8939         15614        57.249904   \n",
       "\n",
       "   %_change_in_visitors  \n",
       "0                   NaN  \n",
       "1              0.736297  \n",
       "2              1.096372  \n",
       "3              4.525372  "
      ]
     },
     "execution_count": 13,
     "metadata": {},
     "output_type": "execute_result"
    }
   ],
   "source": [
    "weekly_activity"
   ]
  },
  {
   "cell_type": "markdown",
   "metadata": {},
   "source": [
    "Here, we can observe that Thumbtack's visitors grew week over week- week 4 saw the highest increase in visitors"
   ]
  },
  {
   "cell_type": "code",
   "execution_count": 15,
   "metadata": {},
   "outputs": [
    {
     "data": {
      "image/png": "[encoded data removed]",
      "text/plain": [
       "<matplotlib.figure.Figure at 0x11e1a7438>"
      ]
     },
     "metadata": {},
     "output_type": "display_data"
    }
   ],
   "source": [
    "sns.barplot(x='week_visited',y='%_change_in_visitors',data=weekly_activity,palette='Blues')\n",
    "plt.title('% increase in visitors week over week')\n",
    "plt.ylabel('% change in visitors week over week');"
   ]
  },
  {
   "cell_type": "code",
   "execution_count": 16,
   "metadata": {
    "collapsed": true
   },
   "outputs": [],
   "source": [
    "# creating a flag checking if a day is a weekend or a weekday\n",
    "visitors['is_weekend'] = np.where(pd.to_datetime(visitors.session_date).dt.weekday < 5, 0, 1)"
   ]
  },
  {
   "cell_type": "code",
   "execution_count": 18,
   "metadata": {},
   "outputs": [
    {
     "data": {
      "image/png": "[encoded data removed]",
      "text/plain": [
       "<matplotlib.figure.Figure at 0x112dbc4a8>"
      ]
     },
     "metadata": {},
     "output_type": "display_data"
    }
   ],
   "source": [
    "sns.barplot(x='week_visited',y='request_id',hue='is_weekend',data=visitors, estimator=len,palette='Blues')\n",
    "plt.title('Visitor volume- weekday vs weekend')\n",
    "plt.ylabel('Count of visitors');"
   ]
  },
  {
   "cell_type": "markdown",
   "metadata": {},
   "source": [
    "There are fewer visits during the weekend overall all"
   ]
  },
  {
   "cell_type": "code",
   "execution_count": 21,
   "metadata": {},
   "outputs": [
    {
     "data": {
      "image/png": "[encoded data removed]",
      "text/plain": [
       "<matplotlib.figure.Figure at 0x11fcb9c88>"
      ]
     },
     "metadata": {},
     "output_type": "display_data"
    }
   ],
   "source": [
    "sns.factorplot(x='session_date',y='request_id',data=visitors,hue='device',ci=None,size=6,aspect=4,estimator=len,palette='Blues')\n",
    "plt.title('Daily count of sent requests- desktop vs mobile');"
   ]
  },
  {
   "cell_type": "code",
   "execution_count": 22,
   "metadata": {},
   "outputs": [
    {
     "data": {
      "text/plain": [
       "56.9137942529502"
      ]
     },
     "execution_count": 22,
     "metadata": {},
     "output_type": "execute_result"
    }
   ],
   "source": [
    "# % of visitors submitting a project request\n",
    "visitors.sent_request.sum()/len(visitors) * 100"
   ]
  },
  {
   "cell_type": "code",
   "execution_count": 23,
   "metadata": {},
   "outputs": [
    {
     "data": {
      "text/plain": [
       "category_name\n",
       "House Cleaning (One Time)        32.115035\n",
       "Local Moving (under 50 miles)    67.884965\n",
       "Name: sent_request, dtype: float64"
      ]
     },
     "execution_count": 23,
     "metadata": {},
     "output_type": "execute_result"
    }
   ],
   "source": [
    "#Percentage of sent requests per category\n",
    "visitors.groupby('category_name')['sent_request'].sum() / visitors.sent_request.sum() * 100"
   ]
  },
  {
   "cell_type": "markdown",
   "metadata": {},
   "source": [
    "The largest contributors of sent requests are visitors from Local Moving (68%)"
   ]
  },
  {
   "cell_type": "code",
   "execution_count": 24,
   "metadata": {
    "collapsed": true
   },
   "outputs": [],
   "source": [
    "device_activity = visitors.groupby('device')['sent_request'].agg(['sum','size']).reset_index()\n",
    "device_activity.columns = ['category_name','sent_requests','visits']\n",
    "device_activity['conversion rate'] = device_activity['sent_requests'] / device_activity['visits'] * 100"
   ]
  },
  {
   "cell_type": "code",
   "execution_count": 25,
   "metadata": {},
   "outputs": [
    {
     "data": {
      "text/html": [
       "<div>\n",
       "<style>\n",
       "    .dataframe thead tr:only-child th {\n",
       "        text-align: right;\n",
       "    }\n",
       "\n",
       "    .dataframe thead th {\n",
       "        text-align: left;\n",
       "    }\n",
       "\n",
       "    .dataframe tbody tr th {\n",
       "        vertical-align: top;\n",
       "    }\n",
       "</style>\n",
       "<table border=\"1\" class=\"dataframe\">\n",
       "  <thead>\n",
       "    <tr style=\"text-align: right;\">\n",
       "      <th></th>\n",
       "      <th>category_name</th>\n",
       "      <th>sent_requests</th>\n",
       "      <th>visits</th>\n",
       "      <th>conversion rate</th>\n",
       "    </tr>\n",
       "  </thead>\n",
       "  <tbody>\n",
       "    <tr>\n",
       "      <th>0</th>\n",
       "      <td>desktop</td>\n",
       "      <td>18708</td>\n",
       "      <td>32295</td>\n",
       "      <td>57.928472</td>\n",
       "    </tr>\n",
       "    <tr>\n",
       "      <th>1</th>\n",
       "      <td>mobile</td>\n",
       "      <td>15438</td>\n",
       "      <td>27701</td>\n",
       "      <td>55.730840</td>\n",
       "    </tr>\n",
       "  </tbody>\n",
       "</table>\n",
       "</div>"
      ],
      "text/plain": [
       "  category_name  sent_requests  visits  conversion rate\n",
       "0       desktop          18708   32295        57.928472\n",
       "1        mobile          15438   27701        55.730840"
      ]
     },
     "execution_count": 25,
     "metadata": {},
     "output_type": "execute_result"
    }
   ],
   "source": [
    "device_activity"
   ]
  },
  {
   "cell_type": "markdown",
   "metadata": {},
   "source": [
    "More than half the visitors access Thumbtack through desktop than Mobile, and the conversion rate for desktop is also better"
   ]
  },
  {
   "cell_type": "code",
   "execution_count": 26,
   "metadata": {
    "collapsed": true
   },
   "outputs": [],
   "source": [
    "category_activity = visitors.groupby('category_name')['sent_request'].agg(['sum','size']).reset_index()\n",
    "\n",
    "category_activity.columns = ['category_name','sent_requests','visits']\n",
    "\n",
    "category_activity['conversion rate'] = category_activity['sent_requests'] / category_activity['visits'] * 100"
   ]
  },
  {
   "cell_type": "code",
   "execution_count": 27,
   "metadata": {},
   "outputs": [
    {
     "data": {
      "text/html": [
       "<div>\n",
       "<style>\n",
       "    .dataframe thead tr:only-child th {\n",
       "        text-align: right;\n",
       "    }\n",
       "\n",
       "    .dataframe thead th {\n",
       "        text-align: left;\n",
       "    }\n",
       "\n",
       "    .dataframe tbody tr th {\n",
       "        vertical-align: top;\n",
       "    }\n",
       "</style>\n",
       "<table border=\"1\" class=\"dataframe\">\n",
       "  <thead>\n",
       "    <tr style=\"text-align: right;\">\n",
       "      <th></th>\n",
       "      <th>category_name</th>\n",
       "      <th>sent_requests</th>\n",
       "      <th>visits</th>\n",
       "      <th>conversion rate</th>\n",
       "    </tr>\n",
       "  </thead>\n",
       "  <tbody>\n",
       "    <tr>\n",
       "      <th>0</th>\n",
       "      <td>House Cleaning (One Time)</td>\n",
       "      <td>10966</td>\n",
       "      <td>17347</td>\n",
       "      <td>63.215542</td>\n",
       "    </tr>\n",
       "    <tr>\n",
       "      <th>1</th>\n",
       "      <td>Local Moving (under 50 miles)</td>\n",
       "      <td>23180</td>\n",
       "      <td>42649</td>\n",
       "      <td>54.350630</td>\n",
       "    </tr>\n",
       "  </tbody>\n",
       "</table>\n",
       "</div>"
      ],
      "text/plain": [
       "                   category_name  sent_requests  visits  conversion rate\n",
       "0      House Cleaning (One Time)          10966   17347        63.215542\n",
       "1  Local Moving (under 50 miles)          23180   42649        54.350630"
      ]
     },
     "execution_count": 27,
     "metadata": {},
     "output_type": "execute_result"
    }
   ],
   "source": [
    "category_activity"
   ]
  },
  {
   "cell_type": "markdown",
   "metadata": {},
   "source": [
    "Even though visitors send more Local Moving requests, the conversion rate for House Cleaning is better (63%)"
   ]
  },
  {
   "cell_type": "code",
   "execution_count": 28,
   "metadata": {},
   "outputs": [
    {
     "data": {
      "text/plain": [
       "<matplotlib.legend.Legend at 0x1271cf9b0>"
      ]
     },
     "execution_count": 28,
     "metadata": {},
     "output_type": "execute_result"
    },
    {
     "data": {
      "image/png": "[encoded data removed]",
      "text/plain": [
       "<matplotlib.figure.Figure at 0x126fac400>"
      ]
     },
     "metadata": {},
     "output_type": "display_data"
    }
   ],
   "source": [
    "sns.barplot(x='week_visited',y='sent_request',hue='category_name',data=visitors,estimator=sum,palette='Blues',ci=None)\n",
    "plt.title('Daily count of sent requests- category')\n",
    "plt.ylabel('Count of visitors')\n",
    "plt.legend(loc='upper left')"
   ]
  },
  {
   "cell_type": "markdown",
   "metadata": {},
   "source": [
    "# Question 2\n",
    "\n",
    "Quotes​ ​Per​ ​Request\n",
    "* What is the distribution of number of quotes per request?\n",
    "* What factors contribute to some requests getting more quotes than others?"
   ]
  },
  {
   "cell_type": "code",
   "execution_count": 29,
   "metadata": {
    "collapsed": true
   },
   "outputs": [],
   "source": [
    "#Extracting count of quotes for each request id from the quotes table\n",
    "count_of_quotes = quotes.groupby('request_id')['quote_id'].count().reset_index()\n",
    "count_of_quotes.columns = ['request_id','count_of_quotes']"
   ]
  },
  {
   "cell_type": "code",
   "execution_count": 30,
   "metadata": {},
   "outputs": [
    {
     "data": {
      "text/plain": [
       "2    7977\n",
       "1    7630\n",
       "3    6188\n",
       "4    3139\n",
       "5    1924\n",
       "6       1\n",
       "Name: count_of_quotes, dtype: int64"
      ]
     },
     "execution_count": 30,
     "metadata": {},
     "output_type": "execute_result"
    }
   ],
   "source": [
    "count_of_quotes.count_of_quotes.value_counts()"
   ]
  },
  {
   "cell_type": "code",
   "execution_count": 31,
   "metadata": {},
   "outputs": [
    {
     "data": {
      "text/plain": [
       "2    29.699542\n",
       "1    28.407610\n",
       "3    23.038832\n",
       "4    11.686958\n",
       "5     7.163334\n",
       "6     0.003723\n",
       "Name: count_of_quotes, dtype: float64"
      ]
     },
     "execution_count": 31,
     "metadata": {},
     "output_type": "execute_result"
    }
   ],
   "source": [
    "# finding out the % share of quote counts \n",
    "count_of_quotes.count_of_quotes.value_counts() / len(count_of_quotes) * 100"
   ]
  },
  {
   "cell_type": "code",
   "execution_count": 32,
   "metadata": {},
   "outputs": [
    {
     "data": {
      "text/plain": [
       "<matplotlib.axes._subplots.AxesSubplot at 0x1271cf668>"
      ]
     },
     "execution_count": 32,
     "metadata": {},
     "output_type": "execute_result"
    },
    {
     "data": {
      "image/png": "[encoded data removed]",
      "text/plain": [
       "<matplotlib.figure.Figure at 0x11fcb79e8>"
      ]
     },
     "metadata": {},
     "output_type": "display_data"
    }
   ],
   "source": [
    "sns.distplot(count_of_quotes.count_of_quotes)"
   ]
  },
  {
   "cell_type": "code",
   "execution_count": 33,
   "metadata": {
    "collapsed": true
   },
   "outputs": [],
   "source": [
    "visitors_request_counts = visitors.merge(count_of_quotes, on='request_id',how='left')"
   ]
  },
  {
   "cell_type": "code",
   "execution_count": 34,
   "metadata": {
    "collapsed": true
   },
   "outputs": [],
   "source": [
    "# filling missing values with 0 to aid in analysis\n",
    "visitors_request_counts.fillna(0, inplace=True)"
   ]
  },
  {
   "cell_type": "markdown",
   "metadata": {},
   "source": [
    "#### Identifying requests that have more than 3 quotes to understand the drivers of have more quotes"
   ]
  },
  {
   "cell_type": "code",
   "execution_count": 35,
   "metadata": {
    "collapsed": true
   },
   "outputs": [],
   "source": [
    "more_than_3_quotes = visitors_request_counts.loc[visitors_request_counts.count_of_quotes > 3]"
   ]
  },
  {
   "cell_type": "code",
   "execution_count": 36,
   "metadata": {},
   "outputs": [
    {
     "data": {
      "text/plain": [
       "category_name\n",
       "House Cleaning (One Time)        1165\n",
       "Local Moving (under 50 miles)    3899\n",
       "Name: request_id, dtype: int64"
      ]
     },
     "execution_count": 36,
     "metadata": {},
     "output_type": "execute_result"
    }
   ],
   "source": [
    "more_than_3_quotes.groupby('category_name')['request_id'].count()"
   ]
  },
  {
   "cell_type": "code",
   "execution_count": 38,
   "metadata": {},
   "outputs": [
    {
     "data": {
      "text/html": [
       "<div>\n",
       "<style>\n",
       "    .dataframe thead tr:only-child th {\n",
       "        text-align: right;\n",
       "    }\n",
       "\n",
       "    .dataframe thead th {\n",
       "        text-align: left;\n",
       "    }\n",
       "\n",
       "    .dataframe tbody tr th {\n",
       "        vertical-align: top;\n",
       "    }\n",
       "</style>\n",
       "<table border=\"1\" class=\"dataframe\">\n",
       "  <thead>\n",
       "    <tr style=\"text-align: right;\">\n",
       "      <th></th>\n",
       "      <th>category_name</th>\n",
       "      <th>how_far</th>\n",
       "      <th>request_id</th>\n",
       "    </tr>\n",
       "  </thead>\n",
       "  <tbody>\n",
       "    <tr>\n",
       "      <th>0</th>\n",
       "      <td>House Cleaning (One Time)</td>\n",
       "      <td>0</td>\n",
       "      <td>1149</td>\n",
       "    </tr>\n",
       "    <tr>\n",
       "      <th>1</th>\n",
       "      <td>House Cleaning (One Time)</td>\n",
       "      <td>11 - 20 miles</td>\n",
       "      <td>6</td>\n",
       "    </tr>\n",
       "    <tr>\n",
       "      <th>2</th>\n",
       "      <td>House Cleaning (One Time)</td>\n",
       "      <td>21 - 30 miles</td>\n",
       "      <td>2</td>\n",
       "    </tr>\n",
       "    <tr>\n",
       "      <th>3</th>\n",
       "      <td>House Cleaning (One Time)</td>\n",
       "      <td>31 - 50 miles</td>\n",
       "      <td>4</td>\n",
       "    </tr>\n",
       "    <tr>\n",
       "      <th>4</th>\n",
       "      <td>House Cleaning (One Time)</td>\n",
       "      <td>5 - 10 miles</td>\n",
       "      <td>3</td>\n",
       "    </tr>\n",
       "    <tr>\n",
       "      <th>5</th>\n",
       "      <td>House Cleaning (One Time)</td>\n",
       "      <td>Less than 5 miles</td>\n",
       "      <td>1</td>\n",
       "    </tr>\n",
       "    <tr>\n",
       "      <th>6</th>\n",
       "      <td>Local Moving (under 50 miles)</td>\n",
       "      <td>0</td>\n",
       "      <td>38</td>\n",
       "    </tr>\n",
       "    <tr>\n",
       "      <th>7</th>\n",
       "      <td>Local Moving (under 50 miles)</td>\n",
       "      <td>11 - 20 miles</td>\n",
       "      <td>938</td>\n",
       "    </tr>\n",
       "    <tr>\n",
       "      <th>8</th>\n",
       "      <td>Local Moving (under 50 miles)</td>\n",
       "      <td>21 - 30 miles</td>\n",
       "      <td>635</td>\n",
       "    </tr>\n",
       "    <tr>\n",
       "      <th>9</th>\n",
       "      <td>Local Moving (under 50 miles)</td>\n",
       "      <td>31 - 50 miles</td>\n",
       "      <td>539</td>\n",
       "    </tr>\n",
       "    <tr>\n",
       "      <th>10</th>\n",
       "      <td>Local Moving (under 50 miles)</td>\n",
       "      <td>5 - 10 miles</td>\n",
       "      <td>753</td>\n",
       "    </tr>\n",
       "    <tr>\n",
       "      <th>11</th>\n",
       "      <td>Local Moving (under 50 miles)</td>\n",
       "      <td>Less than 5 miles</td>\n",
       "      <td>942</td>\n",
       "    </tr>\n",
       "    <tr>\n",
       "      <th>12</th>\n",
       "      <td>Local Moving (under 50 miles)</td>\n",
       "      <td>Within the same building</td>\n",
       "      <td>54</td>\n",
       "    </tr>\n",
       "  </tbody>\n",
       "</table>\n",
       "</div>"
      ],
      "text/plain": [
       "                    category_name                   how_far  request_id\n",
       "0       House Cleaning (One Time)                         0        1149\n",
       "1       House Cleaning (One Time)             11 - 20 miles           6\n",
       "2       House Cleaning (One Time)             21 - 30 miles           2\n",
       "3       House Cleaning (One Time)             31 - 50 miles           4\n",
       "4       House Cleaning (One Time)              5 - 10 miles           3\n",
       "5       House Cleaning (One Time)         Less than 5 miles           1\n",
       "6   Local Moving (under 50 miles)                         0          38\n",
       "7   Local Moving (under 50 miles)             11 - 20 miles         938\n",
       "8   Local Moving (under 50 miles)             21 - 30 miles         635\n",
       "9   Local Moving (under 50 miles)             31 - 50 miles         539\n",
       "10  Local Moving (under 50 miles)              5 - 10 miles         753\n",
       "11  Local Moving (under 50 miles)         Less than 5 miles         942\n",
       "12  Local Moving (under 50 miles)  Within the same building          54"
      ]
     },
     "execution_count": 38,
     "metadata": {},
     "output_type": "execute_result"
    }
   ],
   "source": [
    "more_than_3_quotes.groupby(['category_name','how_far'])['request_id'].count().reset_index()"
   ]
  },
  {
   "cell_type": "code",
   "execution_count": 39,
   "metadata": {},
   "outputs": [
    {
     "data": {
      "text/html": [
       "<div>\n",
       "<style>\n",
       "    .dataframe thead tr:only-child th {\n",
       "        text-align: right;\n",
       "    }\n",
       "\n",
       "    .dataframe thead th {\n",
       "        text-align: left;\n",
       "    }\n",
       "\n",
       "    .dataframe tbody tr th {\n",
       "        vertical-align: top;\n",
       "    }\n",
       "</style>\n",
       "<table border=\"1\" class=\"dataframe\">\n",
       "  <thead>\n",
       "    <tr style=\"text-align: right;\">\n",
       "      <th></th>\n",
       "      <th>category_name</th>\n",
       "      <th>num_bedrooms</th>\n",
       "      <th>request_id</th>\n",
       "    </tr>\n",
       "  </thead>\n",
       "  <tbody>\n",
       "    <tr>\n",
       "      <th>0</th>\n",
       "      <td>House Cleaning (One Time)</td>\n",
       "      <td>0</td>\n",
       "      <td>26</td>\n",
       "    </tr>\n",
       "    <tr>\n",
       "      <th>1</th>\n",
       "      <td>House Cleaning (One Time)</td>\n",
       "      <td>1 bedroom</td>\n",
       "      <td>101</td>\n",
       "    </tr>\n",
       "    <tr>\n",
       "      <th>2</th>\n",
       "      <td>House Cleaning (One Time)</td>\n",
       "      <td>2 bedrooms</td>\n",
       "      <td>255</td>\n",
       "    </tr>\n",
       "    <tr>\n",
       "      <th>3</th>\n",
       "      <td>House Cleaning (One Time)</td>\n",
       "      <td>3 bedrooms</td>\n",
       "      <td>462</td>\n",
       "    </tr>\n",
       "    <tr>\n",
       "      <th>4</th>\n",
       "      <td>House Cleaning (One Time)</td>\n",
       "      <td>4 bedrooms</td>\n",
       "      <td>234</td>\n",
       "    </tr>\n",
       "    <tr>\n",
       "      <th>5</th>\n",
       "      <td>House Cleaning (One Time)</td>\n",
       "      <td>5+ bedrooms</td>\n",
       "      <td>76</td>\n",
       "    </tr>\n",
       "    <tr>\n",
       "      <th>6</th>\n",
       "      <td>House Cleaning (One Time)</td>\n",
       "      <td>Studio</td>\n",
       "      <td>11</td>\n",
       "    </tr>\n",
       "    <tr>\n",
       "      <th>7</th>\n",
       "      <td>Local Moving (under 50 miles)</td>\n",
       "      <td>0</td>\n",
       "      <td>3884</td>\n",
       "    </tr>\n",
       "    <tr>\n",
       "      <th>8</th>\n",
       "      <td>Local Moving (under 50 miles)</td>\n",
       "      <td>1 bedroom</td>\n",
       "      <td>2</td>\n",
       "    </tr>\n",
       "    <tr>\n",
       "      <th>9</th>\n",
       "      <td>Local Moving (under 50 miles)</td>\n",
       "      <td>2 bedrooms</td>\n",
       "      <td>1</td>\n",
       "    </tr>\n",
       "    <tr>\n",
       "      <th>10</th>\n",
       "      <td>Local Moving (under 50 miles)</td>\n",
       "      <td>3 bedrooms</td>\n",
       "      <td>7</td>\n",
       "    </tr>\n",
       "    <tr>\n",
       "      <th>11</th>\n",
       "      <td>Local Moving (under 50 miles)</td>\n",
       "      <td>4 bedrooms</td>\n",
       "      <td>4</td>\n",
       "    </tr>\n",
       "    <tr>\n",
       "      <th>12</th>\n",
       "      <td>Local Moving (under 50 miles)</td>\n",
       "      <td>Studio</td>\n",
       "      <td>1</td>\n",
       "    </tr>\n",
       "  </tbody>\n",
       "</table>\n",
       "</div>"
      ],
      "text/plain": [
       "                    category_name num_bedrooms  request_id\n",
       "0       House Cleaning (One Time)            0          26\n",
       "1       House Cleaning (One Time)    1 bedroom         101\n",
       "2       House Cleaning (One Time)   2 bedrooms         255\n",
       "3       House Cleaning (One Time)   3 bedrooms         462\n",
       "4       House Cleaning (One Time)   4 bedrooms         234\n",
       "5       House Cleaning (One Time)  5+ bedrooms          76\n",
       "6       House Cleaning (One Time)       Studio          11\n",
       "7   Local Moving (under 50 miles)            0        3884\n",
       "8   Local Moving (under 50 miles)    1 bedroom           2\n",
       "9   Local Moving (under 50 miles)   2 bedrooms           1\n",
       "10  Local Moving (under 50 miles)   3 bedrooms           7\n",
       "11  Local Moving (under 50 miles)   4 bedrooms           4\n",
       "12  Local Moving (under 50 miles)       Studio           1"
      ]
     },
     "execution_count": 39,
     "metadata": {},
     "output_type": "execute_result"
    }
   ],
   "source": [
    "more_than_3_quotes.groupby(['category_name','num_bedrooms'])['request_id'].count().reset_index()"
   ]
  },
  {
   "cell_type": "markdown",
   "metadata": {},
   "source": [
    "From the above tables, we observe that-\n",
    "\n",
    "* Local Moving- a large number of requests for moves within 20 miles have 4 or 5 quotes\n",
    "* House Cleaning- a large number of requests for cleaning are homes that have more than 2 bedrooms"
   ]
  },
  {
   "cell_type": "markdown",
   "metadata": {
    "collapsed": true
   },
   "source": [
    "#### Checking for each category what the drivers are"
   ]
  },
  {
   "cell_type": "code",
   "execution_count": 41,
   "metadata": {
    "collapsed": true
   },
   "outputs": [],
   "source": [
    "moving_data = visitors_request_counts.loc[visitors_request_counts.category_name== 'Local Moving (under 50 miles)']"
   ]
  },
  {
   "cell_type": "code",
   "execution_count": 42,
   "metadata": {
    "collapsed": true
   },
   "outputs": [],
   "source": [
    "more_than_3_moving = moving_data.loc[moving_data.count_of_quotes > 3]"
   ]
  },
  {
   "cell_type": "code",
   "execution_count": 43,
   "metadata": {},
   "outputs": [
    {
     "data": {
      "text/html": [
       "<div>\n",
       "<style>\n",
       "    .dataframe thead tr:only-child th {\n",
       "        text-align: right;\n",
       "    }\n",
       "\n",
       "    .dataframe thead th {\n",
       "        text-align: left;\n",
       "    }\n",
       "\n",
       "    .dataframe tbody tr th {\n",
       "        vertical-align: top;\n",
       "    }\n",
       "</style>\n",
       "<table border=\"1\" class=\"dataframe\">\n",
       "  <thead>\n",
       "    <tr style=\"text-align: right;\">\n",
       "      <th></th>\n",
       "      <th>how_far</th>\n",
       "      <th>request_id</th>\n",
       "    </tr>\n",
       "  </thead>\n",
       "  <tbody>\n",
       "    <tr>\n",
       "      <th>0</th>\n",
       "      <td>0</td>\n",
       "      <td>38</td>\n",
       "    </tr>\n",
       "    <tr>\n",
       "      <th>1</th>\n",
       "      <td>11 - 20 miles</td>\n",
       "      <td>938</td>\n",
       "    </tr>\n",
       "    <tr>\n",
       "      <th>2</th>\n",
       "      <td>21 - 30 miles</td>\n",
       "      <td>635</td>\n",
       "    </tr>\n",
       "    <tr>\n",
       "      <th>3</th>\n",
       "      <td>31 - 50 miles</td>\n",
       "      <td>539</td>\n",
       "    </tr>\n",
       "    <tr>\n",
       "      <th>4</th>\n",
       "      <td>5 - 10 miles</td>\n",
       "      <td>753</td>\n",
       "    </tr>\n",
       "    <tr>\n",
       "      <th>5</th>\n",
       "      <td>Less than 5 miles</td>\n",
       "      <td>942</td>\n",
       "    </tr>\n",
       "    <tr>\n",
       "      <th>6</th>\n",
       "      <td>Within the same building</td>\n",
       "      <td>54</td>\n",
       "    </tr>\n",
       "  </tbody>\n",
       "</table>\n",
       "</div>"
      ],
      "text/plain": [
       "                    how_far  request_id\n",
       "0                         0          38\n",
       "1             11 - 20 miles         938\n",
       "2             21 - 30 miles         635\n",
       "3             31 - 50 miles         539\n",
       "4              5 - 10 miles         753\n",
       "5         Less than 5 miles         942\n",
       "6  Within the same building          54"
      ]
     },
     "execution_count": 43,
     "metadata": {},
     "output_type": "execute_result"
    }
   ],
   "source": [
    "more_than_3_moving.groupby('how_far')['request_id'].count().reset_index()"
   ]
  },
  {
   "cell_type": "code",
   "execution_count": 44,
   "metadata": {
    "collapsed": true
   },
   "outputs": [],
   "source": [
    "X_moving = moving_data[['device','how_far']]\n",
    "y_moving = moving_data['count_of_quotes']\n",
    "X_moving = pd.get_dummies(X_moving)"
   ]
  },
  {
   "cell_type": "code",
   "execution_count": 45,
   "metadata": {
    "collapsed": true
   },
   "outputs": [],
   "source": [
    "X_train, X_test, y_train, y_test = train_test_split(X_moving, y_moving, test_size=0.20, random_state=42)"
   ]
  },
  {
   "cell_type": "code",
   "execution_count": 47,
   "metadata": {
    "collapsed": true
   },
   "outputs": [],
   "source": [
    "rf = RandomForestRegressor()"
   ]
  },
  {
   "cell_type": "code",
   "execution_count": 48,
   "metadata": {},
   "outputs": [
    {
     "data": {
      "text/plain": [
       "RandomForestRegressor(bootstrap=True, criterion='mse', max_depth=None,\n",
       "           max_features='auto', max_leaf_nodes=None,\n",
       "           min_impurity_split=1e-07, min_samples_leaf=1,\n",
       "           min_samples_split=2, min_weight_fraction_leaf=0.0,\n",
       "           n_estimators=10, n_jobs=1, oob_score=False, random_state=None,\n",
       "           verbose=0, warm_start=False)"
      ]
     },
     "execution_count": 48,
     "metadata": {},
     "output_type": "execute_result"
    }
   ],
   "source": [
    "rf.fit(X_train,y_train)"
   ]
  },
  {
   "cell_type": "code",
   "execution_count": 49,
   "metadata": {
    "collapsed": true
   },
   "outputs": [],
   "source": [
    "y_pred_moving = rf.predict(X_test)"
   ]
  },
  {
   "cell_type": "code",
   "execution_count": 50,
   "metadata": {},
   "outputs": [
    {
     "data": {
      "text/plain": [
       "0.95301748611477599"
      ]
     },
     "execution_count": 50,
     "metadata": {},
     "output_type": "execute_result"
    }
   ],
   "source": [
    "mean_squared_error(y_test,y_pred_moving)"
   ]
  },
  {
   "cell_type": "code",
   "execution_count": 51,
   "metadata": {},
   "outputs": [
    {
     "data": {
      "text/plain": [
       "[('how_far_0', 0.95072616548946942),\n",
       " ('how_far_31 - 50 miles', 0.018732910718452459),\n",
       " ('how_far_21 - 30 miles', 0.018548009881173548),\n",
       " ('how_far_11 - 20 miles', 0.0098785180582103768),\n",
       " ('how_far_Within the same building', 0.0010005796026057931),\n",
       " ('device_desktop', 0.00059492378494537814),\n",
       " ('device_mobile', 0.00041516556617451412),\n",
       " ('how_far_Less than 5 miles', 5.3017986804070712e-05),\n",
       " ('how_far_5 - 10 miles', 5.0708912164537191e-05)]"
      ]
     },
     "execution_count": 51,
     "metadata": {},
     "output_type": "execute_result"
    }
   ],
   "source": [
    "sorted(list(zip(X_moving.columns,rf.feature_importances_)),key=lambda x: -1*x[1])"
   ]
  },
  {
   "cell_type": "code",
   "execution_count": 53,
   "metadata": {
    "collapsed": true
   },
   "outputs": [],
   "source": [
    "cleaning_data = visitors_request_counts.loc[visitors_request_counts.category_name== 'House Cleaning (One Time)'].copy()"
   ]
  },
  {
   "cell_type": "code",
   "execution_count": 54,
   "metadata": {
    "collapsed": true
   },
   "outputs": [],
   "source": [
    "X_cleaning = cleaning_data[['device','num_bedrooms','num_bathrooms']]\n",
    "y_cleaning = cleaning_data['count_of_quotes']\n",
    "X_cleaning = pd.get_dummies(X_cleaning)"
   ]
  },
  {
   "cell_type": "code",
   "execution_count": 55,
   "metadata": {
    "collapsed": true
   },
   "outputs": [],
   "source": [
    "X_train, X_test, y_train, y_test = train_test_split(X_cleaning, y_cleaning, test_size=0.20, random_state=42)"
   ]
  },
  {
   "cell_type": "code",
   "execution_count": 56,
   "metadata": {},
   "outputs": [
    {
     "data": {
      "text/plain": [
       "RandomForestRegressor(bootstrap=True, criterion='mse', max_depth=None,\n",
       "           max_features='auto', max_leaf_nodes=None,\n",
       "           min_impurity_split=1e-07, min_samples_leaf=1,\n",
       "           min_samples_split=2, min_weight_fraction_leaf=0.0,\n",
       "           n_estimators=10, n_jobs=1, oob_score=False, random_state=None,\n",
       "           verbose=0, warm_start=False)"
      ]
     },
     "execution_count": 56,
     "metadata": {},
     "output_type": "execute_result"
    }
   ],
   "source": [
    "rf.fit(X_train,y_train)"
   ]
  },
  {
   "cell_type": "code",
   "execution_count": 57,
   "metadata": {},
   "outputs": [
    {
     "data": {
      "text/plain": [
       "0.87554832296309748"
      ]
     },
     "execution_count": 57,
     "metadata": {},
     "output_type": "execute_result"
    }
   ],
   "source": [
    "y_pred_cleaning = rf.predict(X_test)\n",
    "mean_squared_error(y_test,y_pred_cleaning)"
   ]
  },
  {
   "cell_type": "code",
   "execution_count": 59,
   "metadata": {},
   "outputs": [
    {
     "data": {
      "text/plain": [
       "[('num_bathrooms_0', 0.58644187863436315),\n",
       " ('num_bedrooms_0', 0.39191799753172579),\n",
       " ('num_bathrooms_1 bathroom', 0.0052091651500576017),\n",
       " ('device_mobile', 0.0019985507141861976),\n",
       " ('num_bedrooms_2 bedrooms', 0.0019629283629425303),\n",
       " ('num_bathrooms_1.5 bathrooms', 0.0018955486450180446),\n",
       " ('num_bedrooms_4 bedrooms', 0.0016371034995435862),\n",
       " ('num_bedrooms_5+ bedrooms', 0.0016265417018670725),\n",
       " ('device_desktop', 0.0012385824780104312),\n",
       " ('num_bedrooms_3 bedrooms', 0.0012030099751987938),\n",
       " ('num_bedrooms_1 bedroom', 0.001167143742079386),\n",
       " ('num_bedrooms_Studio', 0.0011084012704055488),\n",
       " ('num_bathrooms_3 bathrooms', 0.0010557235718064199),\n",
       " ('num_bathrooms_4+ bathrooms', 0.00084239479609903858),\n",
       " ('num_bathrooms_2 bathrooms', 0.00069502992669654231)]"
      ]
     },
     "execution_count": 59,
     "metadata": {},
     "output_type": "execute_result"
    }
   ],
   "source": [
    "sorted(list(zip(X_cleaning.columns,rf.feature_importances_)),key=lambda x: -1*x[1])"
   ]
  },
  {
   "cell_type": "code",
   "execution_count": 402,
   "metadata": {
    "collapsed": true
   },
   "outputs": [],
   "source": [
    "more_than_3_cleaning = cleaning_data.loc[cleaning_data.count_of_quotes > 3]"
   ]
  },
  {
   "cell_type": "code",
   "execution_count": 419,
   "metadata": {},
   "outputs": [
    {
     "data": {
      "text/html": [
       "<div>\n",
       "<style>\n",
       "    .dataframe thead tr:only-child th {\n",
       "        text-align: right;\n",
       "    }\n",
       "\n",
       "    .dataframe thead th {\n",
       "        text-align: left;\n",
       "    }\n",
       "\n",
       "    .dataframe tbody tr th {\n",
       "        vertical-align: top;\n",
       "    }\n",
       "</style>\n",
       "<table border=\"1\" class=\"dataframe\">\n",
       "  <thead>\n",
       "    <tr style=\"text-align: right;\">\n",
       "      <th></th>\n",
       "      <th>num_bedrooms</th>\n",
       "      <th>request_id</th>\n",
       "    </tr>\n",
       "  </thead>\n",
       "  <tbody>\n",
       "    <tr>\n",
       "      <th>0</th>\n",
       "      <td>0</td>\n",
       "      <td>26</td>\n",
       "    </tr>\n",
       "    <tr>\n",
       "      <th>1</th>\n",
       "      <td>1 bedroom</td>\n",
       "      <td>101</td>\n",
       "    </tr>\n",
       "    <tr>\n",
       "      <th>2</th>\n",
       "      <td>2 bedrooms</td>\n",
       "      <td>255</td>\n",
       "    </tr>\n",
       "    <tr>\n",
       "      <th>3</th>\n",
       "      <td>3 bedrooms</td>\n",
       "      <td>462</td>\n",
       "    </tr>\n",
       "    <tr>\n",
       "      <th>4</th>\n",
       "      <td>4 bedrooms</td>\n",
       "      <td>234</td>\n",
       "    </tr>\n",
       "    <tr>\n",
       "      <th>5</th>\n",
       "      <td>5+ bedrooms</td>\n",
       "      <td>76</td>\n",
       "    </tr>\n",
       "    <tr>\n",
       "      <th>6</th>\n",
       "      <td>Studio</td>\n",
       "      <td>11</td>\n",
       "    </tr>\n",
       "  </tbody>\n",
       "</table>\n",
       "</div>"
      ],
      "text/plain": [
       "  num_bedrooms  request_id\n",
       "0            0          26\n",
       "1    1 bedroom         101\n",
       "2   2 bedrooms         255\n",
       "3   3 bedrooms         462\n",
       "4   4 bedrooms         234\n",
       "5  5+ bedrooms          76\n",
       "6       Studio          11"
      ]
     },
     "execution_count": 419,
     "metadata": {},
     "output_type": "execute_result"
    }
   ],
   "source": [
    "more_than_3_cleaning.groupby('num_bedrooms')['request_id'].count().reset_index()"
   ]
  },
  {
   "cell_type": "code",
   "execution_count": 60,
   "metadata": {
    "collapsed": true
   },
   "outputs": [],
   "source": [
    "def home_types(x):\n",
    "    ''' A function to tag homes that have more than 2 bedrooms'''\n",
    "    \n",
    "    if x.num_bedrooms in ['3 bedrooms','4 bedrooms','5+ bedrooms']:\n",
    "        return 'Homes with greater than 2 bedrooms'\n",
    "    elif x.num_bedrooms == 0:\n",
    "        return 'No bedroom count'\n",
    "    else:\n",
    "        return 'Homes with upto 2 bedrooms'"
   ]
  },
  {
   "cell_type": "code",
   "execution_count": 61,
   "metadata": {
    "collapsed": true
   },
   "outputs": [],
   "source": [
    "cleaning_data['home_type'] = cleaning_data.apply(lambda x: home_types(x),axis=1)"
   ]
  },
  {
   "cell_type": "code",
   "execution_count": 62,
   "metadata": {},
   "outputs": [
    {
     "data": {
      "text/html": [
       "<div>\n",
       "<style>\n",
       "    .dataframe thead tr:only-child th {\n",
       "        text-align: right;\n",
       "    }\n",
       "\n",
       "    .dataframe thead th {\n",
       "        text-align: left;\n",
       "    }\n",
       "\n",
       "    .dataframe tbody tr th {\n",
       "        vertical-align: top;\n",
       "    }\n",
       "</style>\n",
       "<table border=\"1\" class=\"dataframe\">\n",
       "  <thead>\n",
       "    <tr style=\"text-align: right;\">\n",
       "      <th></th>\n",
       "      <th>home_type</th>\n",
       "      <th>count_of_quotes</th>\n",
       "    </tr>\n",
       "  </thead>\n",
       "  <tbody>\n",
       "    <tr>\n",
       "      <th>0</th>\n",
       "      <td>Homes with greater than 2 bedrooms</td>\n",
       "      <td>2.068908</td>\n",
       "    </tr>\n",
       "    <tr>\n",
       "      <th>1</th>\n",
       "      <td>Homes with upto 2 bedrooms</td>\n",
       "      <td>1.882726</td>\n",
       "    </tr>\n",
       "    <tr>\n",
       "      <th>2</th>\n",
       "      <td>No bedroom count</td>\n",
       "      <td>0.038248</td>\n",
       "    </tr>\n",
       "  </tbody>\n",
       "</table>\n",
       "</div>"
      ],
      "text/plain": [
       "                            home_type  count_of_quotes\n",
       "0  Homes with greater than 2 bedrooms         2.068908\n",
       "1          Homes with upto 2 bedrooms         1.882726\n",
       "2                    No bedroom count         0.038248"
      ]
     },
     "execution_count": 62,
     "metadata": {},
     "output_type": "execute_result"
    }
   ],
   "source": [
    "cleaning_data.groupby('home_type')['count_of_quotes'].mean().reset_index()"
   ]
  },
  {
   "cell_type": "markdown",
   "metadata": {},
   "source": [
    "As noticed above, homes with more than 2 bedrooms have a greater average quote count than homes with fewer than 2 bedrooms"
   ]
  },
  {
   "cell_type": "markdown",
   "metadata": {},
   "source": [
    "# Question 3\n",
    "\n",
    "* By category, what is the distribution of quote prices for a project?\n",
    "* By category, what price do you think Thumbtack should charge pros to quote? Why?\n",
    "Explain your reasoning for any assumptions that you make."
   ]
  },
  {
   "cell_type": "code",
   "execution_count": 63,
   "metadata": {
    "collapsed": true
   },
   "outputs": [],
   "source": [
    "# merging visitor and quotes data\n",
    "overall_data = quotes.merge(visitors,on='request_id',how='left')"
   ]
  },
  {
   "cell_type": "code",
   "execution_count": 64,
   "metadata": {},
   "outputs": [
    {
     "data": {
      "text/plain": [
       "category_name\n",
       "House Cleaning (One Time)        151.982718\n",
       "Local Moving (under 50 miles)    350.821409\n",
       "Name: quote_price, dtype: float64"
      ]
     },
     "execution_count": 64,
     "metadata": {},
     "output_type": "execute_result"
    }
   ],
   "source": [
    "overall_data.groupby('category_name')['quote_price'].mean()"
   ]
  },
  {
   "cell_type": "code",
   "execution_count": 65,
   "metadata": {
    "collapsed": true
   },
   "outputs": [],
   "source": [
    "overall_cleaning_data = overall_data.loc[overall_data.category_name == 'House Cleaning (One Time)']\n",
    "overall_moving_data = overall_data.loc[overall_data.category_name == 'Local Moving (under 50 miles)']"
   ]
  },
  {
   "cell_type": "code",
   "execution_count": 66,
   "metadata": {},
   "outputs": [
    {
     "data": {
      "text/plain": [
       "<matplotlib.axes._subplots.AxesSubplot at 0x126c533c8>"
      ]
     },
     "execution_count": 66,
     "metadata": {},
     "output_type": "execute_result"
    },
    {
     "data": {
      "image/png": "[encoded data removed]",
      "text/plain": [
       "<matplotlib.figure.Figure at 0x11fc7c940>"
      ]
     },
     "metadata": {},
     "output_type": "display_data"
    }
   ],
   "source": [
    "sns.boxplot(overall_cleaning_data.quote_price)"
   ]
  },
  {
   "cell_type": "markdown",
   "metadata": {},
   "source": [
    "Since there are very few quotes above 800 dollars, we shall filter the quotes to below 800 dollars to obtain quote prices distributions"
   ]
  },
  {
   "cell_type": "code",
   "execution_count": 67,
   "metadata": {
    "collapsed": true
   },
   "outputs": [],
   "source": [
    "cleaning_quote_price = overall_cleaning_data.quote_price.loc[overall_cleaning_data.quote_price < 800]"
   ]
  },
  {
   "cell_type": "code",
   "execution_count": 68,
   "metadata": {},
   "outputs": [
    {
     "data": {
      "text/plain": [
       "<matplotlib.text.Text at 0x12982c748>"
      ]
     },
     "execution_count": 68,
     "metadata": {},
     "output_type": "execute_result"
    },
    {
     "data": {
      "image/png": "[encoded data removed]",
      "text/plain": [
       "<matplotlib.figure.Figure at 0x11fc7c780>"
      ]
     },
     "metadata": {},
     "output_type": "display_data"
    }
   ],
   "source": [
    "g = sns.boxplot(cleaning_quote_price)\n",
    "plt.title('Distribution of Quote Prices- House Cleaning Category')"
   ]
  },
  {
   "cell_type": "code",
   "execution_count": 69,
   "metadata": {},
   "outputs": [
    {
     "data": {
      "text/plain": [
       "<matplotlib.text.Text at 0x12971db00>"
      ]
     },
     "execution_count": 69,
     "metadata": {},
     "output_type": "execute_result"
    },
    {
     "data": {
      "image/png": "[encoded data removed]",
      "text/plain": [
       "<matplotlib.figure.Figure at 0x129737940>"
      ]
     },
     "metadata": {},
     "output_type": "display_data"
    }
   ],
   "source": [
    "cleaning_quote_price.hist(bins=50)\n",
    "plt.title('Distribution of Quote Prices- House Cleaning Category')\n",
    "plt.xlabel('Dollar Amount')\n",
    "plt.ylabel('Count')\n"
   ]
  },
  {
   "cell_type": "code",
   "execution_count": 499,
   "metadata": {},
   "outputs": [
    {
     "data": {
      "image/png": "[encoded data removed]",
      "text/plain": [
       "<matplotlib.figure.Figure at 0x12cbc0f98>"
      ]
     },
     "metadata": {},
     "output_type": "display_data"
    }
   ],
   "source": [
    "g = sns.boxplot(overall_moving_data.quote_price)\n",
    "g.set_xscale('log')"
   ]
  },
  {
   "cell_type": "code",
   "execution_count": 70,
   "metadata": {
    "collapsed": true
   },
   "outputs": [],
   "source": [
    "moving_quote = overall_moving_data.quote_price.loc[overall_moving_data.quote_price < 800]"
   ]
  },
  {
   "cell_type": "code",
   "execution_count": 71,
   "metadata": {},
   "outputs": [
    {
     "data": {
      "text/plain": [
       "<matplotlib.axes._subplots.AxesSubplot at 0x127815630>"
      ]
     },
     "execution_count": 71,
     "metadata": {},
     "output_type": "execute_result"
    },
    {
     "data": {
      "image/png": "[encoded data removed]",
      "text/plain": [
       "<matplotlib.figure.Figure at 0x11e3eddd8>"
      ]
     },
     "metadata": {},
     "output_type": "display_data"
    }
   ],
   "source": [
    "moving_quote.hist(bins=50)"
   ]
  },
  {
   "cell_type": "code",
   "execution_count": 72,
   "metadata": {},
   "outputs": [
    {
     "data": {
      "image/png": "[encoded data removed]",
      "text/plain": [
       "<matplotlib.figure.Figure at 0x12978b898>"
      ]
     },
     "metadata": {},
     "output_type": "display_data"
    }
   ],
   "source": [
    "sns.boxplot(moving_quote)\n",
    "plt.title('Distribution of Quote Prices- Local Moving Category')\n",
    "plt.savefig('moving_price_dist.png',dpi=300,bbox_inches='tight')"
   ]
  },
  {
   "cell_type": "code",
   "execution_count": 73,
   "metadata": {},
   "outputs": [
    {
     "data": {
      "text/plain": [
       "<matplotlib.text.Text at 0x12722c3c8>"
      ]
     },
     "execution_count": 73,
     "metadata": {},
     "output_type": "execute_result"
    },
    {
     "data": {
      "image/png": "[encoded data removed]",
      "text/plain": [
       "<matplotlib.figure.Figure at 0x12995cc88>"
      ]
     },
     "metadata": {},
     "output_type": "display_data"
    }
   ],
   "source": [
    "less_than_800_moving = overall_moving_data.loc[overall_moving_data.quote_price < 800]\n",
    "plt.figure(figsize=(10,10))\n",
    "g = sns.boxplot(x='quote_price',y='how_far',data=less_than_800_moving,palette='Blues')\n",
    "plt.title('Local Moving- Quote Price Distribution for Move Distance')"
   ]
  },
  {
   "cell_type": "code",
   "execution_count": 74,
   "metadata": {},
   "outputs": [
    {
     "data": {
      "text/plain": [
       "<matplotlib.text.Text at 0x12149c550>"
      ]
     },
     "execution_count": 74,
     "metadata": {},
     "output_type": "execute_result"
    },
    {
     "data": {
      "image/png": "[encoded data removed]",
      "text/plain": [
       "<matplotlib.figure.Figure at 0x11c9dd160>"
      ]
     },
     "metadata": {},
     "output_type": "display_data"
    }
   ],
   "source": [
    "less_than_800_cleaning = overall_cleaning_data.loc[overall_cleaning_data.quote_price < 800]\n",
    "plt.figure(figsize=(10,10))\n",
    "g = sns.boxplot(x='quote_price',y='num_bedrooms',data=less_than_800_cleaning,palette='Blues')\n",
    "plt.title('House Cleaning- Quote Price Distribution for Number of Bedrooms')"
   ]
  },
  {
   "cell_type": "code",
   "execution_count": 569,
   "metadata": {},
   "outputs": [
    {
     "data": {
      "text/html": [
       "<div>\n",
       "<style>\n",
       "    .dataframe thead tr:only-child th {\n",
       "        text-align: right;\n",
       "    }\n",
       "\n",
       "    .dataframe thead th {\n",
       "        text-align: left;\n",
       "    }\n",
       "\n",
       "    .dataframe tbody tr th {\n",
       "        vertical-align: top;\n",
       "    }\n",
       "</style>\n",
       "<table border=\"1\" class=\"dataframe\">\n",
       "  <thead>\n",
       "    <tr style=\"text-align: right;\">\n",
       "      <th></th>\n",
       "      <th></th>\n",
       "      <th>mean</th>\n",
       "      <th>median</th>\n",
       "    </tr>\n",
       "    <tr>\n",
       "      <th>category_name</th>\n",
       "      <th>num_bedrooms</th>\n",
       "      <th></th>\n",
       "      <th></th>\n",
       "    </tr>\n",
       "  </thead>\n",
       "  <tbody>\n",
       "    <tr>\n",
       "      <th rowspan=\"6\" valign=\"top\">House Cleaning (One Time)</th>\n",
       "      <th>1 bedroom</th>\n",
       "      <td>104.936083</td>\n",
       "      <td>100.0</td>\n",
       "    </tr>\n",
       "    <tr>\n",
       "      <th>2 bedrooms</th>\n",
       "      <td>129.694420</td>\n",
       "      <td>120.0</td>\n",
       "    </tr>\n",
       "    <tr>\n",
       "      <th>3 bedrooms</th>\n",
       "      <td>155.215701</td>\n",
       "      <td>150.0</td>\n",
       "    </tr>\n",
       "    <tr>\n",
       "      <th>4 bedrooms</th>\n",
       "      <td>179.951035</td>\n",
       "      <td>162.0</td>\n",
       "    </tr>\n",
       "    <tr>\n",
       "      <th>5+ bedrooms</th>\n",
       "      <td>205.888405</td>\n",
       "      <td>186.0</td>\n",
       "    </tr>\n",
       "    <tr>\n",
       "      <th>Studio</th>\n",
       "      <td>101.130453</td>\n",
       "      <td>90.0</td>\n",
       "    </tr>\n",
       "    <tr>\n",
       "      <th rowspan=\"6\" valign=\"top\">Local Moving (under 50 miles)</th>\n",
       "      <th>1 bedroom</th>\n",
       "      <td>107.512821</td>\n",
       "      <td>100.0</td>\n",
       "    </tr>\n",
       "    <tr>\n",
       "      <th>2 bedrooms</th>\n",
       "      <td>137.029265</td>\n",
       "      <td>125.0</td>\n",
       "    </tr>\n",
       "    <tr>\n",
       "      <th>3 bedrooms</th>\n",
       "      <td>153.368049</td>\n",
       "      <td>150.0</td>\n",
       "    </tr>\n",
       "    <tr>\n",
       "      <th>4 bedrooms</th>\n",
       "      <td>165.452381</td>\n",
       "      <td>155.5</td>\n",
       "    </tr>\n",
       "    <tr>\n",
       "      <th>5+ bedrooms</th>\n",
       "      <td>211.666667</td>\n",
       "      <td>202.5</td>\n",
       "    </tr>\n",
       "    <tr>\n",
       "      <th>Studio</th>\n",
       "      <td>96.181818</td>\n",
       "      <td>100.0</td>\n",
       "    </tr>\n",
       "  </tbody>\n",
       "</table>\n",
       "</div>"
      ],
      "text/plain": [
       "                                                  mean  median\n",
       "category_name                 num_bedrooms                    \n",
       "House Cleaning (One Time)     1 bedroom     104.936083   100.0\n",
       "                              2 bedrooms    129.694420   120.0\n",
       "                              3 bedrooms    155.215701   150.0\n",
       "                              4 bedrooms    179.951035   162.0\n",
       "                              5+ bedrooms   205.888405   186.0\n",
       "                              Studio        101.130453    90.0\n",
       "Local Moving (under 50 miles) 1 bedroom     107.512821   100.0\n",
       "                              2 bedrooms    137.029265   125.0\n",
       "                              3 bedrooms    153.368049   150.0\n",
       "                              4 bedrooms    165.452381   155.5\n",
       "                              5+ bedrooms   211.666667   202.5\n",
       "                              Studio         96.181818   100.0"
      ]
     },
     "execution_count": 569,
     "metadata": {},
     "output_type": "execute_result"
    }
   ],
   "source": [
    "overall_data.groupby(['category_name','num_bedrooms'])['quote_price'].agg(['mean','median'])"
   ]
  },
  {
   "cell_type": "code",
   "execution_count": 76,
   "metadata": {},
   "outputs": [
    {
     "data": {
      "text/plain": [
       "150.0    1427\n",
       "100.0    1145\n",
       "120.0     870\n",
       "200.0     775\n",
       "125.0     690\n",
       "Name: quote_price, dtype: int64"
      ]
     },
     "execution_count": 76,
     "metadata": {},
     "output_type": "execute_result"
    }
   ],
   "source": [
    "# Cleaning quote prices that have the maximum occurence\n",
    "overall_cleaning_data.quote_price.value_counts().head(5)"
   ]
  },
  {
   "cell_type": "code",
   "execution_count": 77,
   "metadata": {},
   "outputs": [
    {
     "data": {
      "text/plain": [
       "250.0    498\n",
       "350.0    409\n",
       "300.0    326\n",
       "400.0    319\n",
       "340.0    298\n",
       "Name: quote_price, dtype: int64"
      ]
     },
     "execution_count": 77,
     "metadata": {},
     "output_type": "execute_result"
    }
   ],
   "source": [
    "# Moving quote prices that have the maximum occurence\n",
    "overall_moving_data.quote_price.value_counts().head(5)"
   ]
  },
  {
   "cell_type": "markdown",
   "metadata": {
    "collapsed": true
   },
   "source": [
    "#### For Local Moving\n",
    "\n",
    "- A large volume of quote prices in the 250 - 400 range (250 and 350- most quoted price)\n",
    "- As moving distance increases, the quote price ranges also increase\n",
    "- < 5 miles and 5 - 10 miles price ranges are almost similar\n",
    "\n",
    "#### For House Cleaning\n",
    "\n",
    "- A large volume of quote prices in the 100 - 200 range (100 and 150 - most quoted price)\n",
    "- Similar to Local Moving, the range of quote prices increase as the number of bedrooms increase\n",
    "- Single Family Homes have higher quote price ranges\n",
    "\n",
    "\n"
   ]
  },
  {
   "cell_type": "code",
   "execution_count": null,
   "metadata": {
    "collapsed": true
   },
   "outputs": [],
   "source": []
  }
 ],
 "metadata": {
  "kernelspec": {
   "display_name": "Python 3",
   "language": "python",
   "name": "python3"
  },
  "language_info": {
   "codemirror_mode": {
    "name": "ipython",
    "version": 3
   },
   "file_extension": ".py",
   "mimetype": "text/x-python",
   "name": "python",
   "nbconvert_exporter": "python",
   "pygments_lexer": "ipython3",
   "version": "3.6.1"
  }
 },
 "nbformat": 4,
 "nbformat_minor": 2
}
